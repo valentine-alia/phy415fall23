{
 "cells": [
  {
   "cell_type": "markdown",
   "metadata": {},
   "source": [
    "# 31 Oct 23 - Notes: Complex Analysis & the Fourier Transform"
   ]
  },
  {
   "cell_type": "markdown",
   "metadata": {},
   "source": [
    "## Euler's Formula\n",
    "\n",
    "The backbone of working with complex numbers is **Euler's Formula**, which you've seen already but we'll write again here because it really is that important:\n",
    "\n",
    "$$\n",
    "e^{i\\theta} = \\cos(\\theta) + i\\sin(\\theta)\n",
    "$$\n",
    "\n",
    "Wwe've seen that we can use this to write thr Fourier series for some function $F(t)$ on the interval $(-L/2,L/2)$ as:\n",
    "\n",
    "$$\n",
    "F(t) = \\sum_{n = -\\infty}^{\\infty} c_n e^{in2\\pi t / L}\n",
    "$$\n",
    "\n",
    "where\n",
    "\n",
    "$$\n",
    "c_n = \\frac{1}{L}\\int_{-L/2}^{-L/2} F(t) e^{-in2\\pi t/ L }dt \\hspace{0.5in} n = 0,\\pm 1, \\pm 2, ...\n",
    "$$\n",
    "\n",
    "But we haven't developed robust ways of working with complex numbers. But we really should, since complex numbers show up time and time again in physics, from circuits to fluid flow to quantum mechanics, we need complex numbers to describe the world.\n",
    "\n",
    "## Complex Differentiability\n",
    "\n",
    "As you've seen in your studies in physics and this class, calculus is an indespensible tool. Complex numbers are also super useful, so naturally we'd like to extend the idea of derivatives to complex valued functions. We can define the complex derivative in the usual way:\n",
    "\n",
    "$$\n",
    "f'(z) = \\lim_{z\\to z_0} \\frac{f(z)-f(z_0)}{z - z_0}\n",
    "$$\n",
    "\n",
    "Note that since our input space is in 2d, $z\\to z_0$ can be thought of as any path from $z$ to $z_0$.\n",
    "\n",
    "It turns out that a function being complex differentiable is actuallly quite special, in ways that being real values being differentiable is not. Its so special that we give it a special name. If a complex valued function is complex differentiable on some region, we say it is **holomorphic** on that region. \n",
    "\n",
    "\n",
    "One incredible thing about holomorphic functions is this fact: A complex valued function $f$ that is holomorphic on the annulus $r<|z - z_0| < R$ is **gaurunteed** to have a power series converging to it of the form:\n",
    "\n",
    "$$\n",
    "f(z) = \\sum_{n = -\\infty}^{\\infty} a_n (z - z_0)^n\n",
    "$$\n",
    "\n",
    "Since this is true we also say that $f$ is **analytic** on this annulus.\n",
    "\n",
    "This is a marvelous fact that is in no way true for real-valued functions, and it let's us get away with a lot of... shenanegans. One such shenanagain is the [residue theorem](https://en.wikipedia.org/wiki/Residue_theorem) which essentially lets you integrate holomorphic functions (and many real-valued functions) for free. Unfourtunatley we won't have time to cover residue theory, but it is incredibly powerful and sees a lot of use in physics and engineering, and definitley could be something you look into for a project.\n",
    "\n",
    "\n",
    "## Branch Cuts\n",
    "\n",
    "Holomorphic functions are often somewhat fickle in that they aren't holomorphic on all of $\\mathbb{C}$"
   ]
  },
  {
   "cell_type": "markdown",
   "metadata": {},
   "source": []
  }
 ],
 "metadata": {
  "language_info": {
   "name": "python"
  },
  "orig_nbformat": 4
 },
 "nbformat": 4,
 "nbformat_minor": 2
}
