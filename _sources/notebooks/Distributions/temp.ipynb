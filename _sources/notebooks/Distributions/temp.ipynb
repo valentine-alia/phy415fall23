{
 "cells": [
  {
   "cell_type": "markdown",
   "metadata": {},
   "source": [
    "# just a temporary file to make compiling work, delete later - alia"
   ]
  }
 ],
 "metadata": {
  "language_info": {
   "name": "python"
  },
  "orig_nbformat": 4
 },
 "nbformat": 4,
 "nbformat_minor": 2
}
