{
 "cells": [
  {
   "attachments": {},
   "cell_type": "markdown",
   "metadata": {},
   "source": [
    "# Derivatives"
   ]
  },
  {
   "attachments": {},
   "cell_type": "markdown",
   "metadata": {},
   "source": [
    "## Definition\n",
    "\n",
    "The next step from limits of functions is derivatives. Here I'll jump right into the formal definition:\n",
    "\n",
    "\n",
    "**Def.** Let $f: (a,b)\\to \\mathbb{R}$ be a function. We say $f$ is **differentiable at $x_0$** if the following limit exists:\n",
    "\n",
    "$$\n",
    "f'(x_0) = \\lim_{x\\to x_0}\\frac{f(x_0)- f(x)}{x_0 - x}\n",
    "$$\n",
    "\n",
    "We call $f'(x_0)$ the **derivative of $f$ at $x_0$**. If this limit exists for all $x_0 \\in (a,b)$, we say $f$ is **differentiable**. In that case, the function $f':(a,b) \\to \\mathbb{R}$ is called the **derivative** of $f$ and is denoted: $f' = \\frac{d}{dx}(f) = \\frac{df}{dx}$. We also call $\\frac{d}{dx}$ a **differential operator**.\n",
    "\n",
    "\n",
    "Note that differentiablility is stronger than continuity. $f$ is differentiable $\\implies$ $f$ is continuous, but not the other way. $f$ being continuous does not imply that $f$ is differntiable.\n",
    "\n",
    "As you know, the derivative of a function tells you the slope of the original function. This has an immense amount of uses, as you are no doubt already aware. "
   ]
  },
  {
   "attachments": {},
   "cell_type": "markdown",
   "metadata": {},
   "source": [
    "## Calculating Derivatives\n",
    "\n",
    "When actually calculating derivatives in practice, you memorize the derivatives of a few key functions (see [function palooza](https://walkingipad.github.io/calc_review/notebooks/calc_1/function_palooza.html)) and the rules for calculating producrs and compositions of functions, which I'll put below.\n",
    "\n",
    "### Linearity of the Derivative\n",
    "\n",
    "**Theorem**. Let $f,g : (a,b): \\to \\mathbb{R}$ be differentiable at $x_0 \\in (a,b)$ and let $\\alpha \\in \\mathbb{R}$.Then:\n",
    "\n",
    "$$\n",
    "\\alpha(f + g)'(x_0) = \\alpha f'(x_0) + \\alpha g'(x_0)\n",
    "$$\n",
    "Ignoring specification of $x_0$ and using Leibinz notation, we can write this as:\n",
    "\n",
    "$$\n",
    "\\alpha \\frac{d}{dx}(f + g) = \\alpha \\frac{df}{dx} + \\alpha\\frac{dg}{dx}\n",
    "$$\n",
    "\n",
    "\n",
    "### Product Rule \n",
    "\n",
    "**Theorem**. Let $f,g : (a,b): \\to \\mathbb{R}$ be differentiable at $x_0 \\in (a,b)$. Then $fg$ is differentiable at $x_0$ with:\n",
    "\n",
    "$$\n",
    "(fg)'(x_0) = f'(x_0)g(x_0) + f(x_0)g'(x_0) \n",
    "$$\n",
    "\n",
    "\n",
    "Ignoring specification of $x_0$ and using Leibinz notation, we can write the product rule as:\n",
    "\n",
    "$$\n",
    "\\frac{d}{dx}(fg) = \\frac{df}{dx}g + f\\frac{dg}{dx}\n",
    "$$"
   ]
  },
  {
   "attachments": {},
   "cell_type": "markdown",
   "metadata": {},
   "source": [
    "### Chain Rule\n",
    "\n",
    "**Theorem**. Let $f:(a,b)\\to (c,d)$ and $g:(c,d)\\to \\mathbb{R}$ be functions. If $f$ is differentiable at $x_0\\in(a,b)$ and $g$ is differentiable at $f(x_0)$, then $g\\circ f = g(f(x))$ is differentiable at $x_0$ with:\n",
    "\n",
    "$$\n",
    "(g\\circ f)'(x_0) = g'(f(x_0))f'(x_0)\n",
    "$$\n",
    "\n",
    "Ignoring specification of $x_0$ and using Leibinz notation we can write the chain rule as:\n",
    "\n",
    "\n",
    "$$\n",
    "\\frac{d}{dx}g(f(x)) = \\frac{dg}{df}\\frac{df}{dx}\n",
    "$$"
   ]
  },
  {
   "attachments": {},
   "cell_type": "markdown",
   "metadata": {},
   "source": [
    "### Power Rule\n",
    "\n",
    "This one applies to **only polynomials** but is used so frequently I need to mention it.\n",
    "\n",
    "**Theorem**. For $a\\in \\mathbb{R} \\setminus \\{0\\}$:\n",
    "\n",
    "$$\n",
    "\\frac{d}{dx} x^a = ax^{a-1}\n",
    "$$"
   ]
  }
 ],
 "metadata": {
  "kernelspec": {
   "display_name": "base",
   "language": "python",
   "name": "python3"
  },
  "language_info": {
   "codemirror_mode": {
    "name": "ipython",
    "version": 3
   },
   "file_extension": ".py",
   "mimetype": "text/x-python",
   "name": "python",
   "nbconvert_exporter": "python",
   "pygments_lexer": "ipython3",
   "version": "3.9.12"
  },
  "orig_nbformat": 4
 },
 "nbformat": 4,
 "nbformat_minor": 2
}
