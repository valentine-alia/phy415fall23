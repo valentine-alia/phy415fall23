{
 "cells": [
  {
   "attachments": {},
   "cell_type": "markdown",
   "metadata": {},
   "source": [
    "# Real Numbers\n"
   ]
  },
  {
   "attachments": {},
   "cell_type": "markdown",
   "metadata": {},
   "source": [
    "The real numbers are the set of all positive and negative numbers, as well as 0. We denote it as $\\mathbb{R}$. One can [Construct the Reals](https://sites.math.washington.edu//~toro/Courses/09-10/524/construction-reals.pdf), but its a bit technical and a physics major will (probably) never need to see that so I won't go through that here. \n",
    "\n",
    "Things you can do with real numbers: Add, Subtract, Multiply, Divide (except by 0), and compare (for 2 real numbers one must be greater than the other OR they are equal). All of the typical algebraic rules apply to real numbers.\n",
    "\n",
    "Things you can't do: Divide by 0, take square roots of negative numbers.\n",
    "\n",
    "Another useful thing to note is that for two real numbers $a$ and $b$, if $a\\geq b$ and $a \\leq b$ then $a=b$.\n",
    "\n",
    "\n",
    "## Bounds \n",
    "\n",
    "For a subset $\\mathcal{Y}\\subset \\mathbb{R}$, an **Upper-Bound** of $\\mathcal{Y}$ is some $b\\in \\mathbb{R}$ satisfying $x\\leq b$ for all $x \\in \\mathcal{Y}$. If this $b$ exists, we say $\\mathcal{Y}$ is **bounded above**.\n",
    "\n",
    "\n",
    "For a subset $\\mathcal{Y}\\subset \\mathbb{R}$, a **Lower-Bound** of $\\mathcal{Y}$ is some $b\\in \\mathbb{R}$ satisfying $x\\geq b$ for all $x \\in \\mathcal{Y}$ If this $b$ exists, we say $\\mathcal{Y}$ is **bounded below**.\n",
    "\n",
    "The real numbers have the property that any subset $\\mathcal{Y}\\subset \\mathbb{R}$ that is bounded above has a **least upper bound**.\n",
    "\n",
    "## Intervals\n",
    "\n",
    "For $a,b\\in\\mathbb{R}$ satisfying $a<b$, we call the following sets **Intervals**.\n",
    "\n",
    "$$(a,b) := \\{x\\in\\mathbb{R}: a<x<b \\} \\hspace{1cm} [a,b] := \\{x\\in\\mathbb{R}: a\\leq x \\leq b \\}$$\n",
    "$$(a,b] := \\{x\\in\\mathbb{R}: a<x\\leq b \\} \\hspace{1cm} [a,b) := \\{x\\in\\mathbb{R}: a\\leq x < b \\}$$\n",
    "$$(a,\\infty] := \\{x\\in\\mathbb{R}: a<x \\} \\hspace{1cm} [a,\\infty) := \\{x\\in\\mathbb{R}: a\\leq x \\}$$\n",
    "$$(-\\infty,b] := \\{x\\in\\mathbb{R}: x\\leq b \\} \\hspace{1cm} (-\\infty,b) := \\{x\\in\\mathbb{R}: x < b \\}$$\n",
    "\n",
    "## Triangle Inequality\n",
    "\n",
    "This doesen't come up in physics *that* often, but is still useful to know, The triangle inequality for real numbers states:\n",
    "\n",
    "$$\n",
    "\\text{for a, b } \\in \\mathbb{R}, \\space  |a| + |b| \\geq |a + b|\n",
    "$$"
   ]
  },
  {
   "attachments": {},
   "cell_type": "markdown",
   "metadata": {},
   "source": []
  }
 ],
 "metadata": {
  "kernelspec": {
   "display_name": "base",
   "language": "python",
   "name": "python3"
  },
  "language_info": {
   "codemirror_mode": {
    "name": "ipython",
    "version": 3
   },
   "file_extension": ".py",
   "mimetype": "text/x-python",
   "name": "python",
   "nbconvert_exporter": "python",
   "pygments_lexer": "ipython3",
   "version": "3.9.12"
  },
  "orig_nbformat": 4
 },
 "nbformat": 4,
 "nbformat_minor": 2
}
