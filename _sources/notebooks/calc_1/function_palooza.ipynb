{
 "cells": [
  {
   "attachments": {},
   "cell_type": "markdown",
   "metadata": {},
   "source": [
    "# Function Palooza"
   ]
  },
  {
   "attachments": {},
   "cell_type": "markdown",
   "metadata": {},
   "source": [
    "In physics, there are a handful of functions that you should know by heart. I've outlined them (and their derivatives) here."
   ]
  },
  {
   "attachments": {},
   "cell_type": "markdown",
   "metadata": {},
   "source": [
    "## Constants and Polynomials\n",
    "\n",
    "| Function      | Derivative |\n",
    "| ----------- | ----------- |\n",
    "|$a$| $0$|\n",
    "| $x^a$      | $ax^{a-1}$  |\n",
    "\n",
    "### Example\n",
    "\n",
    "$$\n",
    "\\frac{d}{dx}(7x^4 + 3x^{5/2} + x + 4) = 7\\frac{d}{dx}x^4 + 3\\frac{d}{dx}x^{5/2} \\frac{d}{dx} x + \\frac{d}{dx} 4 = 28x^3 + \\frac{15}{2}x^{3/2} + 1\n",
    "$$\n",
    "\n",
    "By linearity of the derivative and the power rule."
   ]
  },
  {
   "attachments": {},
   "cell_type": "markdown",
   "metadata": {},
   "source": [
    "## Real Valued Exponential\n",
    "\n",
    "| Function      | Derivative |\n",
    "| ----------- | ----------- |\n",
    "| $e^x$ | $e^x$ |\n",
    "\n",
    "The exponential, denoted $e^x$ or $\\exp{(x)}$ is probably the most important function in physics (I would argue in math in general as well). This is because it has the incredible property of being its own derivative.\n",
    "\n",
    "### Example\n",
    "\n",
    "$$\n",
    "\\frac{d}{dx}e^{-2x} = -2e^{-2x}\n",
    "$$\n",
    "\n",
    "By the chain rule. You should become very comfortable with this kind of derivative.\n",
    "\n",
    "## Complex Valued Exponential\n",
    "Perhaps this isn't the best time to introduce this, but its too important for me to leave out:\n",
    "\n",
    "$$\n",
    "e^{i\\theta} = \\cos(\\theta) + i\\sin(\\theta)\n",
    "$$\n",
    "This is called **Euler's Formula*** . \n",
    "\n",
    "More generally:\n",
    "$$\n",
    "e^{x+iy} = e^x(\\cos(y) + i\\sin(y))\n",
    "$$"
   ]
  },
  {
   "attachments": {},
   "cell_type": "markdown",
   "metadata": {},
   "source": [
    "## Natural Log\n",
    "\n",
    "| Function      | Derivative |\n",
    "| ----------- | ----------- |\n",
    "| $\\ln{(x)}$ | $\\frac{1}{x}$ |\n",
    "\n",
    "The natural log is the inverse of the exponential, that is $\\ln{(e^x)} = x$ and $e^{\\ln{(x)}} = x$. $\\ln{(...)}$ is often denoted by just $\\log{(...)}$. Also, it is good to know that $\\ln{(1)} = 0$.\n",
    "\n",
    "### Properties (log rules)\n",
    "\n",
    "| Log properties      |  |\n",
    "| ----------- | ----------- |\n",
    "| Powers | $\\ln{(x^a)} = a\\ln{(x)}$ | \n",
    "| Products | $\\ln{(xy)} = \\ln{(x)} + \\ln{(y)}$ |\n",
    "|Division | $\\ln{\\left(\\frac{x}{y}\\right)} = \\ln{(x)} - \\ln{(y)}$|\n",
    "\n",
    "\n",
    "\n",
    "### Exponentials of a different base\n",
    "Now that we know $e^x$ and $\\ln{(x)}$, we can define exponentials of any base:\n",
    "\n",
    "$$\n",
    "a^x = e^{x\\ln{(a)}}\n",
    "$$"
   ]
  },
  {
   "attachments": {},
   "cell_type": "markdown",
   "metadata": {},
   "source": [
    "## Trig Functions\n",
    "\n",
    "\n",
    "| Function      | Derivative |\n",
    "| ----------- | ----------- |\n",
    "|$\\sin(x)$ |$\\cos(x)$ |\n",
    "|$\\cos(x)$ | $-\\sin(x)$|\n",
    "|$\\tan(x)$ | $\\frac{1}{\\cos^2(x)}$ |\n",
    "\n",
    "Recall that $\\tan(x) := \\frac{\\sin(x)}{\\cos(x)}$.\n",
    "\n",
    "The most important trig identity is: $\\sin^2 (x) + \\cos^2(x) = 1$. I won't write other ones down since they are [easy to look up](https://www.eeweb.com/tools/trigonometry-laws-and-identities-sheet/). \n",
    "\n",
    "$\\sin(x)$ and $\\cos(x)$ are $2\\pi$ periodic, so they repeat every $2\\pi$. The function $\\sin(\\omega x)$ then is $\\frac{2\\pi}{\\omega}$ periodic.\n",
    "\n",
    "#### Exponential Form\n",
    "\n",
    "| Function      | Exp. Form |\n",
    "| ----------- | ----------- |\n",
    "| $\\cos(\\theta)$ | $\\frac{e^{i\\theta} + e^{-i\\theta}}{2}$ |\n",
    "| $\\sin(\\theta)$ | $\\frac{e^{i\\theta} - e^{-i\\theta}}{2i}$| "
   ]
  },
  {
   "attachments": {},
   "cell_type": "markdown",
   "metadata": {},
   "source": [
    "## Inverse Trig functions\n",
    "\n",
    "Here I favor the \"arc\" notation instead of $^{-1}$ notation, since the latter can be confusing.\n",
    "\n",
    "| Function      | Derivative |\n",
    "| ----------- | ----------- |\n",
    "|$\\arctan(x)$ |$\\frac{1}{1+x^2}$ |\n",
    "|$\\arcsin(x)$|$\\frac{1}{\\sqrt{1-x^2}}$|\n",
    "|$\\arccos(x)$|$-\\frac{1}{\\sqrt{1-x^2}}$|\n",
    "\n",
    "$\\arctan$ is probably the only one worth commiting to memory here. $\\arctan$ is technically a multi valued function, but almost always, you can assume that $\\arctan(x)$ will spit out a value in $(\\pi/2,\\pi/2)$."
   ]
  },
  {
   "attachments": {},
   "cell_type": "markdown",
   "metadata": {},
   "source": [
    "## Hyperbolic Trig Functions\n",
    "\n",
    "These are less common, but still good to know as they do come up from time to time in physics.\n",
    "\n",
    "| Function      | Derivative |\n",
    "| ----------- | ----------- |\n",
    "|$\\sinh(x)$|$\\cosh(x)$|\n",
    "|$\\cosh(x)$|$\\sinh(x)$|\n",
    "|$\\tanh(x)$|$\\frac{1}{\\cosh^2(x)}$|\n",
    "\n",
    "#### Exponential Form\n",
    "\n",
    "| Function      | Exp. Form |\n",
    "| ----------- | ----------- |\n",
    "| $\\cosh(x)$ | $\\frac{e^x + e^{-x}}{2}$ |\n",
    "| $\\sinh(x)$ | $\\frac{e^x - e^{-x}}{2}$| \n",
    "|$\\tanh(x)$ | $\\frac{e^x - e^{-x}}{e^x + e^{-x}}$| "
   ]
  },
  {
   "attachments": {},
   "cell_type": "markdown",
   "metadata": {},
   "source": [
    "## Even and odd functions\n",
    "\n",
    "Many, but not all functions can be classified as **even** or **odd**. I'll define these properties now:\n",
    "\n",
    "**Def.**\n",
    "\n",
    "$f$ is **even** if $f(-x) = f(x)$\n",
    "\n",
    "$f$ is **odd** if $f(-x) = -f(x)$\n",
    "\n",
    "Here is a classic example of even and odd functions:"
   ]
  },
  {
   "cell_type": "code",
   "execution_count": 13,
   "metadata": {},
   "outputs": [
    {
     "data": {
      "image/png": "[encoded data removed]",
      "text/plain": [
       "<Figure size 432x288 with 1 Axes>"
      ]
     },
     "metadata": {
      "needs_background": "light"
     },
     "output_type": "display_data"
    }
   ],
   "source": [
    "import numpy as np\n",
    "import matplotlib.pyplot as plt\n",
    "x = np.arange(-3,3,0.05);plt.plot(x,5*x**2, label = 'even');plt.plot(x,x**3, label = 'odd')\n",
    "plt.ylim(-10,10);plt.legend();plt.show()"
   ]
  },
  {
   "attachments": {},
   "cell_type": "markdown",
   "metadata": {},
   "source": []
  },
  {
   "attachments": {},
   "cell_type": "markdown",
   "metadata": {},
   "source": [
    "### Even or odd?\n",
    "\n",
    "\n",
    "| Function      | even or odd |\n",
    "| ----------- | ----------- |\n",
    "|$\\sin(x)$|odd|\n",
    "|$\\cos(x)$|even|\n",
    "|$x^n, n$ even|even|\n",
    "|$x^n, n$ odd|odd|\n",
    "|$\\cosh(x)$|even|\n",
    "|$\\sinh(x)$|odd|\n",
    "|$\\tanh(x)$|odd|\n",
    "|$\\arctan(x)$|odd**|"
   ]
  },
  {
   "attachments": {},
   "cell_type": "markdown",
   "metadata": {},
   "source": [
    "###### *Euler is pronounced oy·luh or oy·ler, you·ler is a common mispronunciation.\n",
    "\n",
    "###### ** again, $\\arctan(x)$ is multi valued, so one must be careful here."
   ]
  }
 ],
 "metadata": {
  "kernelspec": {
   "display_name": "base",
   "language": "python",
   "name": "python3"
  },
  "language_info": {
   "codemirror_mode": {
    "name": "ipython",
    "version": 3
   },
   "file_extension": ".py",
   "mimetype": "text/x-python",
   "name": "python",
   "nbconvert_exporter": "python",
   "pygments_lexer": "ipython3",
   "version": "3.9.12"
  },
  "orig_nbformat": 4
 },
 "nbformat": 4,
 "nbformat_minor": 2
}
