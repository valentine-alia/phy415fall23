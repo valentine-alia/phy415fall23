{
 "cells": [
  {
   "cell_type": "markdown",
   "metadata": {},
   "source": [
    "# Assessments\n",
    "\n",
    "## Formative Assessment\n",
    "\n",
    "Formative assessment is often ungraded and reflective assessment. It is meant to help you make changes to your thinking, approaches, or practice. It is not evaluative, it's corrective; to help you make changes. We will make heavy use of ungraded formative feedback throughout the course. \n",
    "\n",
    "## Summative Assessment\n",
    "\n",
    "Summative assessment is typically evaluative and will take the form of course projects completed out of class. These projects will take the form of a computational essay in which you write mathematics and code to investigate and explain a given phenomenon of interest. We will explore those essays in class and talk about what makes a useful one as we define a rubric for evaluation. \n",
    "\n",
    "### Preliminary Rubric\n",
    "\n",
    "[A preliminary rubric](rubric.md) has been posted. We will use this rubric for the first out-of-class project evaluation. We will then reflect on it and make changes to collectively as a class.\n",
    "\n",
    "### Resources for Computational Essays\n",
    "\n",
    "If you want to read more about computational essays, here's a few links in the order utility/readability:\n",
    "\n",
    "* Steven Wolfram - [What is a Computational Essay?](https://writings.stephenwolfram.com/2017/11/what-is-a-computational-essay/)\n",
    "* University of Oslo Physics - [Examples of Computational Essays](https://uio-ccse.github.io/computational-essay-showroom/)\n",
    "* Odden and Burk, The Physics Teacher - [Computational Essays in the Physics Classroom](https://aapt.scitation.org/doi/abs/10.1119/1.5145471)\n",
    "* Odden, Lockwood, and Caballero, Physical Review PER - [Physics computational literacy: An exploratory case study using computational essays](https://journals.aps.org/prper/abstract/10.1103/PhysRevPhysEducRes.15.020152)\n",
    "\n"
   ]
  }
 ],
 "metadata": {
  "language_info": {
   "name": "python"
  },
  "orig_nbformat": 4
 },
 "nbformat": 4,
 "nbformat_minor": 2
}
