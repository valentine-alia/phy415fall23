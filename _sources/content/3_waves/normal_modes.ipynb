{
 "cells": [
  {
   "cell_type": "markdown",
   "metadata": {},
   "source": [
    "# 17 Oct 23 - Normal Modes"
   ]
  },
  {
   "cell_type": "markdown",
   "metadata": {},
   "source": [
    "##  Three Coupled Oscillators\n",
    "\n",
    "Consider the setup below consisting of three masses connected by springs to each other. We intend to find the normal modes of the system by denoting each mass's displacement ($x_1$, $x_2$, and $x_3$).\n",
    "\n",
    "<img src=\"https://raw.githubusercontent.com/valentine-alia/phy415fall23/main/content/assets/3_coupled_osc.png\" alt=\"3 coupled SHOs\" width=800px/>\n",
    "\n",
    "### Finding the Normal Mode Frequencies\n",
    "\n",
    "**&#9989; Do this** \n",
    "\n",
    "This is not magic as we will see, it follows from our choices of solution. Here's the steps and what you might notice about them:\n",
    "\n",
    "1. Guess what the normal modes might look like? Write your guesses down; how should the masses move? (It's ok if you are not sure about all of them, try to determine one of them)\n",
    "2. Write down the energy for the whole system, $T$ and $U$ (We have done this before, but not for this many particles)\n",
    "3. Use the Euler-Lagrange Equation to find the equations of motion for $x_1$, $x_2$, and $x_3$. (We have done this lots, so make sure it feels solid)\n",
    "4. Reformulate the equations of motion as a matrix equation $\\ddot{\\mathbf{x}} = \\mathbf{A} \\mathbf{x}$. What is $\\mathbf{A}$? (We have done this, but only quickly, so take your time)\n",
    "5. Consider solutions of the form $Ce^{i{\\omega}t}$, plug that into $x_1$, $x_2$, and $x_3$ to show you get $\\mathbf{A}\\mathbf{x} = -\\omega^2 \\mathbf{x}$. (We have not done this, we just assumed it works! It's ok if this is annoying, we only have to show it once.)\n",
    "6. Find the normal mode frequencies by taking the determinant of $\\mathbf{A} - \\mathbf{I}\\lambda$. Note that this produces the following definition: $\\lambda = -\\omega^2$ \n",
    "\n"
   ]
  },
  {
   "cell_type": "markdown",
   "metadata": {},
   "source": [
    "### Finding the Normal Modes Amplitudes\n",
    "\n",
    "Ok, now we need to find the normal mode amplitudes. That is we assumed sinusoidal oscillations, but at what amplitudes? We will show how to do this with one frequency ($\\omega_1$), and then break up the work of the the other two. These frequencies are:\n",
    "\n",
    "$$\\omega_A = 2\\dfrac{k}{m}; \\qquad \\omega_B = \\left(2-\\sqrt{2}\\right)\\dfrac{k}{m}; \\qquad \\omega_C = \\left(2+\\sqrt{2}\\right)\\dfrac{k}{m}\\qquad$$\n",
    "\n",
    "**&#9989; Do this** \n",
    "\n",
    "After we do the first one, pick another frequencies and repeat. Answer the follow questions:\n",
    "\n",
    "1. What does this motion physically look like? What are the masses doing?\n",
    "2. How does the frequency of oscillation make sense? Why is it higher or lower than $\\omega_A$?\n",
    "\n",
    "The two cells below have some code that shows how you could've used python to help you when solving this problem:"
   ]
  },
  {
   "cell_type": "code",
   "execution_count": 22,
   "metadata": {},
   "outputs": [
    {
     "name": "stdout",
     "output_type": "stream",
     "text": [
      "numpy eigenvals: [-3.41421356 -2.         -0.58578644]\n",
      "numpy eigenvects: [[ 5.00000000e-01  7.07106781e-01  5.00000000e-01]\n",
      " [-7.07106781e-01 -5.09486455e-16  7.07106781e-01]\n",
      " [ 5.00000000e-01 -7.07106781e-01  5.00000000e-01]]\n",
      "sympy eigenvals:\n"
     ]
    },
    {
     "data": {
      "image/png": "[encoded data removed]",
      "text/latex": [
       "$\\displaystyle \\left\\{ -2 : 1, \\  -2 - \\sqrt{2} : 1, \\  -2 + \\sqrt{2} : 1\\right\\}$"
      ],
      "text/plain": [
       "{-2: 1, -2 - √2: 1, -2 + √2: 1}"
      ]
     },
     "execution_count": 22,
     "metadata": {},
     "output_type": "execute_result"
    }
   ],
   "source": [
    "import numpy as np\n",
    "import matplotlib.pyplot as plt\n",
    "from sympy import *\n",
    "from sympy import Matrix # get symbolic matrix methods\n",
    "init_printing(use_unicode=True) # make math display good\n",
    "\n",
    "A = np.array([[-2, 1, 0], [1, -2, 1], [0, 1, -2]]) ## numpy matrix\n",
    "A_sympy = Matrix(M) ## Take numpy matrix and make it a sympy one\n",
    "\n",
    "eigenvals, eigenvects = np.linalg.eig(A) # numpy numerical methods\n",
    "print(\"numpy eigenvals:\",eigenvals)\n",
    "print(\"numpy eigenvects:\",eigenvects)\n",
    "print(\"sympy eigenvals:\")\n",
    "A_sympy.eigenvals() # sympy symbolic methods WARNING: slow for big matrices"
   ]
  },
  {
   "cell_type": "code",
   "execution_count": 21,
   "metadata": {},
   "outputs": [
    {
     "name": "stdout",
     "output_type": "stream",
     "text": [
      "sympy eigenvects:\n"
     ]
    },
    {
     "data": {
      "image/png": "[encoded data removed]",
      "text/latex": [
       "$\\displaystyle \\left[ \\left( -2, \\  1, \\  \\left[ \\left[\\begin{matrix}-1\\\\0\\\\1\\end{matrix}\\right]\\right]\\right), \\  \\left( -2 - \\sqrt{2}, \\  1, \\  \\left[ \\left[\\begin{matrix}1\\\\- \\sqrt{2}\\\\1\\end{matrix}\\right]\\right]\\right), \\  \\left( -2 + \\sqrt{2}, \\  1, \\  \\left[ \\left[\\begin{matrix}1\\\\\\sqrt{2}\\\\1\\end{matrix}\\right]\\right]\\right)\\right]$"
      ],
      "text/plain": [
       "⎡⎛       ⎡⎡-1⎤⎤⎞  ⎛            ⎡⎡ 1 ⎤⎤⎞  ⎛            ⎡⎡1 ⎤⎤⎞⎤\n",
       "⎢⎜       ⎢⎢  ⎥⎥⎟  ⎜            ⎢⎢   ⎥⎥⎟  ⎜            ⎢⎢  ⎥⎥⎟⎥\n",
       "⎢⎜-2, 1, ⎢⎢0 ⎥⎥⎟, ⎜-2 - √2, 1, ⎢⎢-√2⎥⎥⎟, ⎜-2 + √2, 1, ⎢⎢√2⎥⎥⎟⎥\n",
       "⎢⎜       ⎢⎢  ⎥⎥⎟  ⎜            ⎢⎢   ⎥⎥⎟  ⎜            ⎢⎢  ⎥⎥⎟⎥\n",
       "⎣⎝       ⎣⎣1 ⎦⎦⎠  ⎝            ⎣⎣ 1 ⎦⎦⎠  ⎝            ⎣⎣1 ⎦⎦⎠⎦"
      ]
     },
     "execution_count": 21,
     "metadata": {},
     "output_type": "execute_result"
    }
   ],
   "source": [
    "print(\"sympy eigenvects:\")\n",
    "A_sympy.eigenvects()"
   ]
  },
  {
   "cell_type": "markdown",
   "metadata": {},
   "source": [
    "## Extending your work\n",
    "\n",
    "Given what we have done thus far, you can see that we could easily construct the matrix for a $N$ dimensional chain of 1D oscillators. So let's do that.\n",
    "\n",
    "**&#9989; Do this** \n",
    "\n",
    "Repeat this analysis for a set of $N$ oscillators. Your code should be able to:\n",
    "\n",
    "1. Take a value of $N$ and construct the right matrix representation\n",
    "2. Find the eigenvalues and eigenvectors for this matrix.\n",
    "3. (BONUS) plots the modes automatically\n",
    "4. (CHALLENGE) time the execution of the analysis\n",
    "\n",
    "Be careful not to pick too large of an $N$ value to work with because you could melt your CPU easily. Make sure your code can do something like $N=10$. If you get the timing working, plot time vs number of objects to see how the problem scales with more oscillators.\n"
   ]
  },
  {
   "cell_type": "code",
   "execution_count": null,
   "metadata": {},
   "outputs": [],
   "source": [
    "## Your code here"
   ]
  },
  {
   "cell_type": "markdown",
   "metadata": {},
   "source": [
    "## Even further\n",
    "\n",
    "These models can be used with lattices (solid objects). Draw a sketch of 4 oscillators in a plane connected together in a square shape. Write down the energy equations for this system (assume the springs do not move laterally much). What do the EOMs look like?"
   ]
  },
  {
   "cell_type": "markdown",
   "metadata": {},
   "source": [
    "### Notes\n",
    "\n",
    "* [Partial Solution to Activity](https://github.com/dannycab/phy415msu/blob/main/MMIPbook/assets/pdfs/notes/Notes_2_Three_Coupled_Oscillators.pdf)\n"
   ]
  }
 ],
 "metadata": {
  "kernelspec": {
   "display_name": "bpe",
   "language": "python",
   "name": "python3"
  },
  "language_info": {
   "codemirror_mode": {
    "name": "ipython",
    "version": 3
   },
   "file_extension": ".py",
   "mimetype": "text/x-python",
   "name": "python",
   "nbconvert_exporter": "python",
   "pygments_lexer": "ipython3",
   "version": "3.11.3"
  },
  "orig_nbformat": 4
 },
 "nbformat": 4,
 "nbformat_minor": 2
}
