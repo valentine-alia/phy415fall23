{
 "cells": [
  {
   "cell_type": "markdown",
   "id": "ae6a5a2e",
   "metadata": {},
   "source": [
    "# 21 Sept 23 - Activity: ODE Games\n",
    "\n",
    "Y'all have worked with several different ODEs. We've learned that we can use phase space to investigate different potential families of solutions. We've learned how to read information from phase space for systems we are familiar with like the SHO and the large angle Pendulum. We've also learned how to use numerical integration to find trajectories of the system in time and in phase space, and how chaotic systems behave. Today, you will investigate a new model. There's quite a few well-known models. \n",
    "\n",
    "Some of these models are listed below with links to Wikipedia articles describing them or the ideas related to them. *This is for reference, you don't need to read or understand anything deeply from these articles.*\n",
    "\n",
    "A few 2nd order models:\n",
    "\n",
    "2. [Double Well Potential:](https://en.wikipedia.org/wiki/Double-well_potential) \n",
    "\n",
    "$$\\dot{x}=y; \\dot{y} = -x+y(1-x^2)$$\n",
    "\n",
    "4. [Dipole Fixed Points:](https://en.wikipedia.org/wiki/Stability_theory) \n",
    "\n",
    "$$\\dot{x} = 2xy; \\dot{y} = y^2 - x^2$$\n",
    "\n",
    "5. [Anharmonic Oscillator (Symmetric)](https://en.wikipedia.org/wiki/Anharmonicity) \n",
    "\n",
    "$$m\\ddot{x} + b\\dot{x} + k_1 x + k_2 x^3 = 0$$\n",
    "\n",
    "\n",
    "6. [Duffing Oscillator:](https://en.wikipedia.org/wiki/Duffing_equation) \n",
    "\n",
    "$$\\ddot{x} + x + \\epsilon x^3=0$$\n",
    "\n",
    "I want to let your group decide what you want to explore. But a little guidance when making those choices:\n",
    "\n",
    "\n",
    "2. The remaining oscillators are relatively straightforward to implement in the code below if you break them into 1st order ODEs. Remember that you have to do that!\n",
    "4. There's a few of these models with parameters, you can choose those, but maybe look into reasonable values. These models are likely the most challenging in this assignment because you have to keep track of and pass parameters.\n",
    "5. Finally, some of these models have a time depdendent component, i.e., some $F(t)$. We are neglecting that for now and will come back to it in ODE Palooza 2 - Electric Boogaloo. "
   ]
  },
  {
   "cell_type": "markdown",
   "id": "30492b5e",
   "metadata": {},
   "source": [
    "## Activity\n",
    "\n",
    "Pick an ODE as a group and explore it as we have done in class. The critical element here is not only working on making the models but finding where the key components of our model evaluation framework appear in your work. It is ok if it doesn't all show up for you. We will dsicuss as a class how we might see these components in our modeling work. As a reminder, here's the framework:\n",
    "\n",
    "### Goal: Investigate physical systems (0.30)\n",
    " \n",
    " - How well does your computational essay <mark>predict</mark> or <mark>explain</mark> the system of interest?\n",
    " - How well does your computational essay allow the user to <mark>explore</mark> and <mark>investigate</mark> the system?\n",
    "\n",
    "### Goal: Construct and document a reproducible process (0.10)\n",
    "\n",
    "- How well does your computational essay <mark>reproduce</mark> your results and claims?\n",
    "- How  <mark>well documented</mark> is your computational essay?\n",
    "\n",
    "### Goal: Use analytical, computational, and graphical approaches (0.30)\n",
    "\n",
    "- How well does your computational essay document your <mark>assumptions</mark>?\n",
    "- How well does your computational essay produce an <mark>understandable</mark> and <mark>parsimonious</mark> model?\n",
    "- How well does your computational essay explain the <mark>limitations</mark> of your analysis?\n",
    "\n",
    "### Goal: Provide evidence of the quality of their work\n",
    "\n",
    "- How well does your computational essay <mark>present</mark>  the case for its claims?\n",
    "- How well <mark>validated</mark>  is your model?\n",
    "\n",
    "### Goal: Collaborate effectively\n",
    "\n",
    "- How well did you <mark>share</mark>  in the class's knowledge?\n",
    "  - How well is that documented in your computational essay?\n",
    "- How well did you <mark>work with your partner</mark> ? *For those choosing to do so*"
   ]
  },
  {
   "cell_type": "markdown",
   "id": "60ea830f",
   "metadata": {},
   "source": []
  }
 ],
 "metadata": {
  "kernelspec": {
   "display_name": "Python 3.10.5 ('teaching')",
   "language": "python",
   "name": "python3"
  },
  "language_info": {
   "codemirror_mode": {
    "name": "ipython",
    "version": 3
   },
   "file_extension": ".py",
   "mimetype": "text/x-python",
   "name": "python",
   "nbconvert_exporter": "python",
   "pygments_lexer": "ipython3",
   "version": "3.11.3"
  },
  "vscode": {
   "interpreter": {
    "hash": "4cde1c9ed8a683d36136dc08e8027575d08b07893b804429583e933d2fe93b0b"
   }
  }
 },
 "nbformat": 4,
 "nbformat_minor": 5
}
