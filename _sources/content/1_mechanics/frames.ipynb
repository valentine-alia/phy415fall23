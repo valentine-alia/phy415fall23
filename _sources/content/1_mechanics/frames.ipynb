{
 "cells": [
  {
   "cell_type": "markdown",
   "metadata": {},
   "source": [
    "# 31 Aug 2023 - Frames"
   ]
  },
  {
   "cell_type": "markdown",
   "metadata": {},
   "source": [
    "Newtonian mechanics\n",
    "\n",
    "want in activity:\n",
    "- moving with linear system and not \n",
    "- frame of rotation and not\n",
    "\n",
    "Learning goals:\n",
    "- Math to move between frames\n",
    "- physics conclusions from moving between frames"
   ]
  },
  {
   "cell_type": "markdown",
   "metadata": {},
   "source": [
    "## What is a Frame?\n",
    "\n",
    "A **Frame of Reference**, **Reference Frame**, or simply **Frame** is a set of coordinates. These coordinates describe where things are. \n",
    "\n",
    "\n",
    "An **inertial frame** is a Frame where newtons first law holds, which means that in this frame a net force of zero means an acceleration of zero. In practice, this means that if you have two frames that are moving at a constant velocity relative to each other (without rotation), these are inertial frames."
   ]
  },
  {
   "cell_type": "markdown",
   "metadata": {},
   "source": [
    "###  Activity - Relative Velocities\n",
    "\n",
    "Suppose you're walking down shaw lane eager to get to BPS for your favorite physics class at constant velocity $v_A$ when you notice a [squirrel](https://www.instagram.com/qualitysquirrelsofmsu/) sitting stationary on the sidewalk $d$ meters in front of you. You're a physics major so you naturally feel the urge to unnececarily mathematically analyze this situation using reference frames. \n",
    "\n",
    " Let's call your reference frame $A$ and the squirrel's $B$. We'll ignore height differences between you and the squirrel."
   ]
  },
  {
   "cell_type": "markdown",
   "metadata": {},
   "source": [
    "### Questions\n",
    "\n",
    "A note on notation: $r_{A/B}$ means \"the position of **object** $A$ in **frame** $B$,\" or simply \"the position of $A$ relative to $B$.\"\n",
    "\n",
    "**&#9989; Do this** \n",
    "\n",
    "Answer the following Questions:\n",
    "\n",
    "1. What is the squirrels position in your frame, $r_{B/A}$?\n",
    "2. What is your position in the squirrel's frame, $r_{A/B}$?\n",
    "3. What is your velocity in your frame, $\\dot{r}_{A/A} = v_{A/A}$?\n",
    "4. What is the sqirrel's velocity in your frame, $v_{B/A}$?\n",
    "5. What is your velocity in the squirrels frame, $v_{B/A}$?\n",
    "6. Suppose that the squirrel starts walking to the right at the same velocity that you are walking at. What is $v_{B/A}$ now?\n",
    "\n",
    "Hopefully these are intuitive from what you've learned back in PHY 183, but there are subtleties to the math you just did. Is there a relationship between $v_{B/A}$ and $v_{A/B}$?\n",
    "\n",
    "In general, for inertial frames $A,B,$ and object $C$ one has the following:\n",
    "\n",
    "$$\\mathbf{r}_{A/C} = \\mathbf{r}_{A/B} + \\mathbf{r}_{B/C} $$\n",
    "\n",
    "taking a derivative gives:\n",
    "\n",
    "$$\\dot{\\mathbf{r}}_{A/C} = \\dot{\\mathbf{r}}_{A/B} + \\dot{\\mathbf{r}}_{B/C} $$\n",
    "\n",
    "Let's apply this to a problem. \n",
    "\n",
    "A second squirrel appears, which we'll call squirrel $C$. This scares the first squirrel into running toward you, while the new squirrel runs away.\n",
    "\n",
    "### Questions\n",
    "\n",
    "**&#9989; Do this** \n",
    "\n",
    "Answer the following question:\n",
    "\n",
    "What is the velocity of $B$ relative to $C$?"
   ]
  },
  {
   "cell_type": "markdown",
   "metadata": {},
   "source": [
    "## The Galilean Transformation\n",
    "\n",
    "We just did an example of a **Galilean Transformation**. Traditionally, if we have a frame $B$ that with moves with constant velocity $v_{B/A}$ with respect to frame $A$, we re-write the above equations as the following:\n",
    "\n",
    "$$\\mathbf{v}_B = \\mathbf{v}_A - \\textbf{v}_{B/A}$$\n",
    "\n",
    "$$\\mathbf{r}_B = \\mathbf{r}_A - \\mathbf{v}_{B/A} t$$\n",
    "\n",
    "Where we have taken $_A$ to mean $_{C/A}$ and $_B$ to mean $_{C/B}$. Also note that since we are ignoring relativistic effects, we also have that:\n",
    "\n",
    "$$t_B = t_A$$\n",
    "\n",
    "### Checking the physics\n",
    "\n",
    "This is all well and good, but we should make sure to check that newtonian mechanics works the same in both of these frames, that they are really inertial frames. \n",
    "\n",
    "**&#9989; Do this** \n",
    "\n",
    "In your group, show that forces experienced in frame $A$ are the same as forces experienced in frame $B$. (Hint: $v_{B/A}$ is constant)"
   ]
  },
  {
   "cell_type": "markdown",
   "metadata": {},
   "source": []
  },
  {
   "cell_type": "markdown",
   "metadata": {},
   "source": [
    "## Non-Inertial Frames\n",
    "\n",
    "Now that we have an idea of how intertial frames, work let's move onto non-inertial frames. Broadly speaking, non-inertial frames are frames that undergo some sort of acceleration. In general for inertial frame $A$ and non-inertial frame $B$, we can write:\n",
    "\n",
    "$$r_B = r_A - r_{B/A}$$\n",
    "\n",
    "$$v_B = v_A - v_{B/A}$$\n",
    "\n",
    "as before, as well as:\n",
    "\n",
    "$$\\ddot{r}_B = \\ddot{r}_{A} - \\ddot{r}_{B/A}$$\n",
    "\n",
    "Interestingly, a new (ficticious) force has sprung into being, equal to $-m\\ddot{r}_{B/A}$ ! This lets us write newton's second law for frame B as: \n",
    "\n",
    "$$m\\ddot{r}_{B} = F -m\\ddot{r}_{B/A}$$"
   ]
  },
  {
   "cell_type": "markdown",
   "metadata": {},
   "source": []
  }
 ],
 "metadata": {
  "language_info": {
   "name": "python"
  },
  "orig_nbformat": 4
 },
 "nbformat": 4,
 "nbformat_minor": 2
}
