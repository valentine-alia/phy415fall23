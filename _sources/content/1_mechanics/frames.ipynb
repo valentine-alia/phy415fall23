{
 "cells": [
  {
   "cell_type": "markdown",
   "metadata": {},
   "source": [
    "# 31 Aug 2023 - Frames and Coordinates"
   ]
  },
  {
   "cell_type": "markdown",
   "metadata": {},
   "source": [
    "## What is a Frame?\n",
    "\n",
    "A **Frame of Reference**, **Reference Frame**, or simply **Frame** is a set of coordinates. These coordinates describe where things are. \n",
    "\n",
    "\n",
    "An **inertial frame** is a Frame where newtons first law holds, which means that in this frame a net force of zero means an acceleration of zero. In practice, this means that if you have two frames that are moving at a constant velocity relative to each other (without rotation), these are inertial frames."
   ]
  },
  {
   "cell_type": "markdown",
   "metadata": {},
   "source": [
    "### Relative Velocities in cartesian coordinates\n",
    "\n",
    "Suppose you're walking down shaw lane eager to get to BPS for your favorite physics class at constant velocity $v_A$ when you notice a [squirrel](https://www.instagram.com/qualitysquirrelsofmsu/) sitting stationary on the sidewalk $d$ meters in front of you. You're a physics major so you naturally feel the urge to unnececarily mathematically analyze this situation using reference frames. \n",
    "\n",
    " Let's call your reference frame $A$ and the squirrel's $B$. We'll ignore height differences between you and the squirrel."
   ]
  },
  {
   "cell_type": "markdown",
   "metadata": {},
   "source": [
    "### Questions\n",
    "\n",
    "A note on notation: $r_{A/B}$ means \"the position of **object** $A$ in **frame** $B$,\" or simply \"the position of $A$ relative to $B$.\"\n",
    "\n",
    "\n",
    "\n",
    "\n",
    "<img src=\"https://raw.githubusercontent.com/valentine-alia/phy415fall23/main/content/assets/squirrel1.png\" alt=\"squirrel1\" width=500px/>\n",
    "\n",
    "\n",
    "**&#9989; Do this** \n",
    "\n",
    "Answer the following Questions:\n",
    "\n",
    "1. What is the squirrels position in your frame, $r_{B/A}$?\n",
    "2. What is your position in the squirrel's frame, $r_{A/B}$?\n",
    "3. What is your velocity in your frame, $\\dot{r}_{A/A} = v_{A/A}$?\n",
    "4. What is the sqirrel's velocity in your frame, $v_{B/A}$?\n",
    "5. What is your velocity in the squirrels frame, $v_{B/A}$?\n",
    "6. Suppose that the squirrel starts walking to the right at the same velocity that you are walking at. What is $v_{B/A}$ now?\n",
    "\n",
    "Hopefully these are intuitive from what you've learned back in PHY 183, but there are subtleties to the math you just did. Is there a relationship between $v_{B/A}$ and $v_{A/B}$?\n",
    "\n",
    "In general, for inertial frames $A,B,$ and object $C$ one has the following:\n",
    "\n",
    "$$\\mathbf{r}_{A/C} = \\mathbf{r}_{A/B} + \\mathbf{r}_{B/C} $$\n",
    "\n",
    "taking a derivative gives:\n",
    "\n",
    "$$\\dot{\\mathbf{r}}_{A/C} = \\dot{\\mathbf{r}}_{A/B} + \\dot{\\mathbf{r}}_{B/C} $$\n",
    "\n",
    "This derivative works out so simply only because the **unit vectors are fixed in cartesian coordinates**. That is, if we write a generic vector in one of these frames as $\\mathbf{r} = x\\mathbf{\\hat x} + y\\mathbf{\\hat y} + z \\mathbf{\\hat z}$, and then take a time derivative, we simply get $\\dot{\\mathbf{r}} = \\frac{d}{dt} \\mathbf{r} = \\frac{dx}{dt}\\mathbf{\\hat x} + \\frac{d\\mathbf{\\hat x}}{dt} x + \\frac{dy}{dt}\\mathbf{\\hat y} + \\frac{d\\mathbf{\\hat y}}{dt} y + \\frac{dz}{dt}\\mathbf{\\hat z} + \\frac{d\\mathbf{\\hat z}}{dt} z = \\dot{x}\\mathbf{\\hat x} + \\dot{y}\\mathbf{\\hat y} + \\dot{z} \\mathbf{\\hat z}$ because the derivatives of the unit vectors vanish. Later, you'll figure out what happens when you have non-constant unit vectors.\n",
    "\n",
    "Let's use these transformations in a problem.\n",
    "\n",
    "A second squirrel appears, which we'll call squirrel $C$. This scares the first squirrel into running toward you, while the new squirrel runs away.\n",
    "\n",
    "\n",
    "\n",
    "<img src=\"https://raw.githubusercontent.com/valentine-alia/phy415fall23/main/content/assets/squirrel2.png\" alt=\"squirrel1\" width=650px/>\n",
    "\n",
    "\n",
    "### Questions\n",
    "\n",
    "**&#9989; Do this** \n",
    "\n",
    "Answer the following question:\n",
    "\n",
    "What is the velocity of $B$ relative to $C$?"
   ]
  },
  {
   "cell_type": "markdown",
   "metadata": {},
   "source": [
    "### The Galilean Transformation\n",
    "\n",
    "We just did an example of a **Galilean Transformation**. Traditionally, if we have a frame $B$ that with moves with constant velocity $v_{B/A}$ with respect to frame $A$, we re-write the above equations as the following:\n",
    "\n",
    "$$\\mathbf{v}_B = \\mathbf{v}_A - \\textbf{v}_{B/A}$$\n",
    "\n",
    "$$\\mathbf{r}_B = \\mathbf{r}_A - \\mathbf{v}_{B/A} t$$\n",
    "\n",
    "Where we have taken $_A$ to mean $_{C/A}$ and $_B$ to mean $_{C/B}$. Also note that since we are ignoring relativistic effects, we also have that:\n",
    "\n",
    "$$t_B = t_A$$\n",
    "\n",
    "### Checking the physics\n",
    "\n",
    "This is all well and good, but we should make sure to check that newtonian mechanics works the same in both of these frames, that they are really inertial frames. \n",
    "\n",
    "**&#9989; Do this** \n",
    "\n",
    "In your group, show that forces experienced in frame $A$ are the same as forces experienced in frame $B$. (Hint: $v_{B/A}$ is constant)"
   ]
  },
  {
   "cell_type": "markdown",
   "metadata": {},
   "source": []
  },
  {
   "cell_type": "markdown",
   "metadata": {},
   "source": [
    "## Forces in polar coordinates\n",
    "\n",
    "Many problems in physics require the use of non-cartesian coordinates, such as the Hydrogen atom or the two-body problem. One such coordinate system is **polar coordinates**. In this coordinate system, any vector $\\mathbf{r}\\in \\mathbb{R}^2$ is described by a distance $r$ and angle $\\phi$ insead of cartesian coordinates $x$ and $y$. The following four equations show how points transform in these coordinate systems.\n",
    "\n",
    "$$\n",
    "x = r\\cos \\phi \\hspace{1in} y = r\\sin \\phi\n",
    "$$\n",
    "\n",
    "$$\n",
    "r = \\sqrt{x^2 + y^2} \\hspace{1in} \\phi = \\arctan(y / x)\n",
    "$$\n",
    "\n",
    "\n",
    "We'd like to know how to write down Newton's second law in this coordinate system, but this is not as simple as before because the unit vectors in polar coordinate are NOT constant. We'll denote the unit vectors for polar coordinates by $\\hat{\\mathbf{r}}$ and $\\hat{\\boldsymbol{\\phi}}$. $\\hat{\\mathbf{r}}$ points in the direction of increasing $r$ with $\\phi$ fixed, and similarly $\\hat{\\boldsymbol{\\phi}}$ points in the direction of increasing $\\phi$ with $r$ fixed.\n",
    "\n",
    "\n",
    "However, this doesen't stop us from being able to break down a net force into its components along each unit vector:\n",
    "\n",
    "$$\n",
    "\\mathbf{F} = F_r \\hat{\\mathbf{R}} + F_\\phi \\hat{\\boldsymbol{\\phi}}\n",
    "$$\n",
    "\n",
    "And the second law still holds:\n",
    "\n",
    "$$\n",
    "\\mathbf{F} = m\\ddot{\\mathbf{r}}\n",
    "$$\n",
    "\n",
    "It would be very useful if we had expressions for $F_r$ and $F_\\phi$ in terms of $r$ and $\\phi$. Toward finding these, we can start by writing:\n",
    "\n",
    "$$\n",
    "\\mathbf{r} = r\\hat{\\mathbf{r}}\n",
    "$$\n",
    "\n",
    "\n",
    "### Task\n",
    "\n",
    "**&#9989; Do this** \n",
    "\n",
    "Find $\\dot{\\mathbf{r}}$ by differentiating $\\mathbf{r}$ with respect to time. (see hint below)\n",
    "\n",
    "\n",
    "\n",
    "**&#9989; Do this** \n",
    "\n",
    "\n",
    "\n",
    "Find $\\ddot{\\mathbf{r}}$ by differentiating $\\dot{\\mathbf{r}}$ with respect to time. Then find $F_r$ and $F_\\phi$. (see hint below)\n",
    "\n",
    "\n",
    "\n",
    "Hint: During these problems, you'll need to find expressions for $\\frac{d\\hat{\\mathbf{r}}}{dt}$ and $\\frac{d\\hat{\\boldsymbol{\\phi}}}{dt}$, which these pictures might help with:\n"
   ]
  },
  {
   "cell_type": "markdown",
   "metadata": {},
   "source": [
    "#### Angular momentum\n",
    "\n",
    "One of the powerful things you get from using this coordinate system is a handy way to represent angular momentum:\n",
    "\n",
    "$$\n",
    "|\\mathbf{L}| = |\\mathbf{r} \\times \\mathbf{p}| = |mr^2\\dot{\\phi}|\n",
    "$$\n",
    "\n",
    "In the interest of time we won't go through the whole calculation to arrive at this, but this is handy to know."
   ]
  },
  {
   "cell_type": "markdown",
   "metadata": {},
   "source": [
    "### (time permitting) Non-Inertial Frames\n",
    "\n",
    "Broadly speaking, non-inertial frames are frames that undergo some sort of acceleration. In general for inertial frame $A$ and non-inertial frame $B$, we can write:\n",
    "\n",
    "$$r_B = r_A - r_{B/A}$$\n",
    "\n",
    "$$v_B = v_A - v_{B/A}$$\n",
    "\n",
    "as before, as well as:\n",
    "\n",
    "$$\\ddot{r}_B = \\ddot{r}_{A} - \\ddot{r}_{B/A}$$\n",
    "\n",
    "Interestingly, this means a new (ficticious) force has sprung into being, equal to $-m\\ddot{r}_{B/A}$ ! This lets us write newton's second law for frame B as: \n",
    "\n",
    "$$m\\ddot{r}_{B} = F -m\\ddot{r}_{B/A}$$"
   ]
  },
  {
   "cell_type": "markdown",
   "metadata": {},
   "source": [
    "### Leaning on a bus problem\n",
    "\n",
    "Suppose you're standing on a bus that is accelerating forward with constant acceleration $r_{B/A}$. If we approximate you as a pendulum, what angle should you lean at so you can stay at equillibrium without having to exert any force to stay at that angle?\n",
    "\n",
    "**&#9989; Do this** \n",
    "\n",
    "Solve this problem using the the as a non-inertial frame. [Solution](https://raw.githubusercontent.com/valentine-alia/phy415fall23/main/content/assets/bus_soln.pdf)"
   ]
  },
  {
   "cell_type": "markdown",
   "metadata": {},
   "source": [
    "### Forces in Rotating Frames\n",
    "\n",
    "For intertial frame A and non-inertial, rotating frame B, rotating at an angular velocity of $\\mathbf{\\Omega}$ relative to A, we can write the second law as:\n",
    "\n",
    "$$\n",
    "m\\ddot{\\mathbf{r}} = \\mathbf{F} + 2m\\dot{\\mathbf{r}}\\times \\mathbf{\\Omega} + m (\\mathbf{\\Omega}\\times \\mathbf{r}) \\times \\mathbf{\\Omega}\n",
    "$$\n",
    "\n",
    "Where $\\mathbf{F}$ is any \"standard\" forces from inertial frames, $2m\\dot{\\mathbf{r}}\\times \\mathbf{\\Omega}$ is the Coriolis force, and $m (\\mathbf{\\Omega}\\times \\mathbf{r}) \\times \\mathbf{\\Omega}$ is the centrifugal force."
   ]
  }
 ],
 "metadata": {
  "language_info": {
   "name": "python"
  },
  "orig_nbformat": 4
 },
 "nbformat": 4,
 "nbformat_minor": 2
}
